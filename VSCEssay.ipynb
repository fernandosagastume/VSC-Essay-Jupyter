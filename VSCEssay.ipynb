{
 "cells": [
  {
   "attachments": {},
   "cell_type": "markdown",
   "metadata": {},
   "source": [
    "# Hoja de Trabajo # 1 - Jupyter Notebooks, Markdown y Git"
   ]
  },
  {
   "attachments": {},
   "cell_type": "markdown",
   "metadata": {},
   "source": [
    "## Aventurandonos en el Mundo de los Sistemas de Control de Versiones"
   ]
  },
  {
   "attachments": {},
   "cell_type": "markdown",
   "metadata": {},
   "source": [
    "Los **Sistemas de Control de Versiones** se han convertido con el paso del tiempo, herramientas cruciales para la vida no solo los desarrolladores sino que de todos en general. La idea de utilzar estos sistemas es poder tener de alguna forma tanto archivos como folders de forma centralizada y de forma colaborativa. El verdadero sazón de esta herramienta es el historial que lleva de tal forma que podamos dar un seguimiento en caso de que por ejemplo estemos trabajando un proyecto. Por lo tanto, los controles de versiones se han vuelto parte de la era digital donde estos nos sirven para dar un orden y a la vez nos permite salvaguardar nuestros datos."
   ]
  },
  {
   "attachments": {},
   "cell_type": "markdown",
   "metadata": {},
   "source": [
    "La utilidad del control de versiones no solo tiene un enfoque colaborativo ya que incluso cuando se trabaja solo también es útil. Entre las utilidades que destacan esta por ejemplo la capacidad de revisar el historial de un proyecto,permite mantener un registro del \"porqué\" detrás de determinados cambios, nos da la posibilidad de trabajar en *ramas paralelas* para un proyecto en especifico, y entre otras más funciones increíbles. Al contrario al trabajar con otros como se mencionaba, se vuelve una herramienta invaluable para ver los cambios realizados por otros, así como para resolver conflictos."
   ]
  },
  {
   "attachments": {},
   "cell_type": "markdown",
   "metadata": {},
   "source": [
    "Si le damos un enfoque para los desarrolladores podemos caer en el caso como el de la *Imagen ilustrativa 1*. Basicamente lo que nos ilustra es un caso de la vida real por lo que pasamos todos los que hemos trabajado como desarrolladores utilizando herramientas de control de versiones, en este caso Git. Muchas veces no tenemos una idea clara de cuantos comandos utiles tiene esta herramienta, pero caemos al caso de la imagen donde si un proyecto contiene muchos errores, podemos ir a recuperar una copia fresca del proyecto. Esto es uno de los tantos casos donde se puede ver la verdadera utilidad que tienen este tipo de herramientas."
   ]
  },
  {
   "attachments": {},
   "cell_type": "markdown",
   "metadata": {},
   "source": [
    "[![Img Alt Text](git.png \"Imagen ilustrativa de Git\")\n",
    "<br>*Imagen Ilustrativa 1*"
   ]
  },
  {
   "attachments": {},
   "cell_type": "markdown",
   "metadata": {},
   "source": [
    "El mundo cada día da un paso mas hacia la era tecnológica en la que actualmente vivimos, y los sistemas de control de versiones no hacen excepción a esa era. Estas herramientas han venido a hacer más fácil la vida tanto de los desarrolladores como personas en general. Nos ofrece muchas ventajas que nos permite llevar a cabo proyectos de forma ordenada y centralizada. La utilidad de estas herramientas no se quedan en permitir a equipos de trabajo llevar proyectos de forma paralela, sino que también ayuda aquellas personas cuyas trabajan en solitario. Sin duda hay que seguir pendientes de este mundo de la tecnología que es muy cambiante."
   ]
  },
  {
   "attachments": {},
   "cell_type": "markdown",
   "metadata": {},
   "source": [
    "### Anexos"
   ]
  },
  {
   "attachments": {},
   "cell_type": "markdown",
   "metadata": {},
   "source": [
    "1. **Version Control (Git)**. Recuperado el 6 de febrero de 2023, de \n",
    "https://missing.csail.mit.edu/2020/version-control/."
   ]
  }
 ],
 "metadata": {
  "kernelspec": {
   "display_name": "Python 3.10.0 64-bit",
   "language": "python",
   "name": "python3"
  },
  "language_info": {
   "codemirror_mode": {
    "name": "ipython",
    "version": 3
   },
   "file_extension": ".py",
   "mimetype": "text/x-python",
   "name": "python",
   "nbconvert_exporter": "python",
   "pygments_lexer": "ipython3",
   "version": "3.10.0"
  },
  "orig_nbformat": 4,
  "vscode": {
   "interpreter": {
    "hash": "369f2c481f4da34e4445cda3fffd2e751bd1c4d706f27375911949ba6bb62e1c"
   }
  }
 },
 "nbformat": 4,
 "nbformat_minor": 2
}
